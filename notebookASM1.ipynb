{
 "cells": [
  {
   "cell_type": "code",
   "execution_count": 1,
   "metadata": {},
   "outputs": [
    {
     "name": "stdout",
     "output_type": "stream",
     "text": [
      "Defaulting to user installation because normal site-packages is not writeable\n",
      "Requirement already satisfied: findspark in c:\\users\\lehoa\\appdata\\roaming\\python\\python39\\site-packages (2.0.1)\n",
      "Note: you may need to restart the kernel to use updated packages.\n"
     ]
    }
   ],
   "source": [
    "pip install findspark\n"
   ]
  },
  {
   "cell_type": "markdown",
   "metadata": {},
   "source": [
    "Import findspark and related parts"
   ]
  },
  {
   "cell_type": "code",
   "execution_count": 1,
   "metadata": {},
   "outputs": [],
   "source": [
    "import findspark\n",
    "findspark.init()"
   ]
  },
  {
   "cell_type": "code",
   "execution_count": 2,
   "metadata": {},
   "outputs": [],
   "source": [
    "import re\n",
    "import pyspark\n",
    "from pyspark.sql import *\n",
    "from pyspark.sql.functions import *\n",
    "from pyspark.sql.types import *\n",
    "from pyspark.sql import functions as f"
   ]
  },
  {
   "cell_type": "markdown",
   "metadata": {},
   "source": [
    "2. Read database from mongodb with Spark"
   ]
  },
  {
   "cell_type": "code",
   "execution_count": 9,
   "metadata": {},
   "outputs": [],
   "source": [
    "spark = SparkSession \\\n",
    "    .builder \\\n",
    "    .master('local') \\\n",
    "    .appName('MyApp') \\\n",
    "    .config('spark.jars.packages', 'org.mongodb.spark:mongo-spark-connector_2.12:3.0.0') \\\n",
    "    .getOrCreate()"
   ]
  },
  {
   "cell_type": "markdown",
   "metadata": {},
   "source": [
    "3. Standardized data"
   ]
  },
  {
   "cell_type": "code",
   "execution_count": 10,
   "metadata": {},
   "outputs": [],
   "source": [
    "answers_schema = StructType([\n",
    "\tStructField(\"Id\", StringType(), True),\n",
    "\tStructField(\"OwnerUserId\", StringType(), True),\n",
    "\tStructField(\"CreationDate\", StringType(), True),\n",
    "\tStructField(\"ParentId\", StringType(), True),\n",
    "\tStructField(\"Score\", StringType(), True),\n",
    "\tStructField(\"Body\", StringType(), True),])\n",
    "\n",
    "questions_schema = StructType([\n",
    "\tStructField(\"Id\", StringType(), True),\n",
    "\tStructField(\"OwnerUserId\", StringType(), True),\n",
    "\tStructField(\"CreationDate\", StringType(), True),\n",
    "\tStructField(\"ClosedDate\", StringType(), True),\n",
    "\tStructField(\"Score\", StringType(), True),\n",
    "\tStructField(\"Title\", StringType(), True),\n",
    "\tStructField(\"Body\", StringType(), True),])"
   ]
  },
  {
   "cell_type": "code",
   "execution_count": 11,
   "metadata": {},
   "outputs": [],
   "source": [
    "answers_df = spark.read \\\n",
    "    .format(\"com.mongodb.spark.sql.DefaultSource\") \\\n",
    "    .option(\"uri\", \"mongodb://127.0.0.1/ASM1_DEP303.answers_reduced\") \\\n",
    "\t.schema(answers_schema) \\\n",
    "\t.load()\n",
    "\n",
    "questions_df = spark.read \\\n",
    "    .format(\"com.mongodb.spark.sql.DefaultSource\") \\\n",
    "    .option(\"uri\", \"mongodb://127.0.0.1/ASM1_DEP303.questions_reduced\") \\\n",
    "\t.schema(questions_schema) \\\n",
    "\t.load()"
   ]
  },
  {
   "cell_type": "markdown",
   "metadata": {},
   "source": [
    "3.1 Transform column \"CreationDate\", \"ClosedDate\" from StringType to DateType"
   ]
  },
  {
   "cell_type": "code",
   "execution_count": 12,
   "metadata": {},
   "outputs": [
    {
     "name": "stdout",
     "output_type": "stream",
     "text": [
      "+--------+-----------+------------+--------+-----+--------------------+\n",
      "|AnswerId|OwnerUserId|CreationDate|ParentId|Score|                Body|\n",
      "+--------+-----------+------------+--------+-----+--------------------+\n",
      "|      92|         61|  2008-08-01|      90|   13|<p><a href=\"http:...|\n",
      "|     124|         26|  2008-08-01|      80|   12|<p>I wound up usi...|\n",
      "|     199|         50|  2008-08-01|     180|    1|<p>I've read some...|\n",
      "|     269|         91|  2008-08-01|     260|    4|<p>Yes, I thought...|\n",
      "|     332|         59|  2008-08-02|     330|   19|<p>I would be a b...|\n",
      "|     344|        100|  2008-08-02|     260|    6|<p>You might be a...|\n",
      "|     359|        119|  2008-08-02|     260|    5|<P>You could use ...|\n",
      "|     473|         49|  2008-08-02|     470|    8|<p>No, what you'r...|\n",
      "|     529|         86|  2008-08-02|     180|    3|<p>Isn't it also ...|\n",
      "|     307|         49|  2008-08-02|     260|   28|<p><a href=\"http:...|\n",
      "+--------+-----------+------------+--------+-----+--------------------+\n",
      "only showing top 10 rows\n",
      "\n",
      "+----------+-----------+------------+----------+-----+--------------------+--------------------+\n",
      "|QuestionId|OwnerUserId|CreationDate|ClosedDate|Score|               Title|                Body|\n",
      "+----------+-----------+------------+----------+-----+--------------------+--------------------+\n",
      "|        90|         58|  2008-08-01|2012-12-26|  144|Good branching an...|<p>Are there any ...|\n",
      "|        80|         26|  2008-08-01|      null|   26|SQLStatement.exec...|<p>I've written a...|\n",
      "|       180|    2089740|  2008-08-01|      null|   53|Function for crea...|<p>This is someth...|\n",
      "|       260|         91|  2008-08-01|      null|   49|Adding scripting ...|<p>I have a littl...|\n",
      "|       120|         83|  2008-08-01|      null|   21|   ASP.NET Site Maps|<p>Has anyone got...|\n",
      "|       330|         63|  2008-08-02|      null|   29|Should I use nest...|<p>I am working o...|\n",
      "|       470|         71|  2008-08-02|2016-03-26|   13|Homegrown consump...|<p>I've been writ...|\n",
      "|       580|         91|  2008-08-02|      null|   21|Deploying SQL Ser...|<p>I wonder how y...|\n",
      "|       650|        143|  2008-08-03|      null|   79|Automatically upd...|<p>I would like t...|\n",
      "|       810|        233|  2008-08-03|      null|    9|Visual Studio Set...|<p>I'm trying to ...|\n",
      "+----------+-----------+------------+----------+-----+--------------------+--------------------+\n",
      "only showing top 10 rows\n",
      "\n"
     ]
    }
   ],
   "source": [
    "def to_date_df(df, dateformat, datetype):\n",
    "\treturn df.withColumn(datetype, to_date(col(datetype), dateformat))\n",
    "\n",
    "def replace(column, value):\n",
    "    return when(column != value, column).otherwise(lit(None))\n",
    "\n",
    "new_answers_df = answers_df.withColumn(\"CreationDate\",to_date(col(\"CreationDate\"),\"yyyy-MM-dd'T'HH:mm:ss'Z'\")) \\\n",
    "\t\t\t\t\t\t\t.withColumn(\"OwnerUserId\", replace(col(\"OwnerUserId\"), \"NA\"))\\\n",
    "\t\t\t\t\t\t\t.withColumnRenamed(\"Id\",\"AnswerId\")\\\n",
    "\t\t\t\t\t\t\t.withColumn(\"AnswerId\",col(\"AnswerId\").cast(\"Integer\"))\\\n",
    "\t\t\t\t\t\t\t.withColumn(\"OwnerUserId\",col(\"OwnerUserId\").cast(\"Integer\"))\\\n",
    "\t\t\t\t\t\t\t.withColumn(\"ParentId\",col(\"ParentId\").cast(\"Integer\"))\\\n",
    "\t\t\t\t\t\t\t.withColumn(\"Score\",col(\"Score\").cast(\"Integer\"))\n",
    "\n",
    "new_answers_df.show(10)\n",
    "\n",
    "new_questions_df = questions_df.withColumn(\"ClosedDate\",to_date(col(\"ClosedDate\"),\"yyyy-MM-dd'T'HH:mm:ss'Z'\")) \\\n",
    "                                .withColumn(\"CreationDate\",to_date(col(\"CreationDate\"),\"yyyy-MM-dd'T'HH:mm:ss'Z'\")) \\\n",
    "\t\t\t\t\t\t\t\t.withColumn(\"OwnerUserId\", replace(col(\"OwnerUserId\"), \"NA\"))\\\n",
    "\t\t\t\t\t\t\t\t.withColumnRenamed(\"Id\",\"QuestionId\")\\\n",
    "\t\t\t\t\t\t\t\t.withColumn(\"QuestionId\",col(\"QuestionId\").cast(\"Integer\"))\\\n",
    "\t\t\t\t\t\t\t\t.withColumn(\"OwnerUserId\",col(\"OwnerUserId\").cast(\"Integer\"))\\\n",
    "\t\t\t\t\t\t\t\t.withColumn(\"Score\",col(\"Score\").cast(\"Integer\"))\t\t\t\t\t\n",
    "new_questions_df.show(10)"
   ]
  },
  {
   "cell_type": "markdown",
   "metadata": {},
   "source": [
    "4. Count the number of Programming Languages appear in column \"Body\" in \"question\" collection"
   ]
  },
  {
   "cell_type": "code",
   "execution_count": 8,
   "metadata": {},
   "outputs": [
    {
     "name": "stdout",
     "output_type": "stream",
     "text": [
      "+--------------------+-----+\n",
      "|Programming Language|count|\n",
      "+--------------------+-----+\n",
      "|                  C#| 6738|\n",
      "|                 C++| 5227|\n",
      "|          Javascript| 1544|\n",
      "|                 CSS| 2864|\n",
      "|                HTML| 8056|\n",
      "|                 PHP| 7755|\n",
      "|                 SQL|16719|\n",
      "|                  Go| 5699|\n",
      "|                Ruby| 2606|\n",
      "|              Python| 4388|\n",
      "|                Java|10364|\n",
      "+--------------------+-----+\n",
      "\n"
     ]
    }
   ],
   "source": [
    "prog_lang_re = r\"Javascript|Java|Python|C\\+\\+|C#|Go|Ruby|PHP|HTML|CSS|SQL\"\n",
    "\n",
    "def prog_lang(string):\n",
    "\treturn re.findall(prog_lang_re,string)\n",
    "parse_prog_lang_udf = udf(prog_lang, ArrayType(StringType()))\n",
    "prog_lang_df = new_questions_df.withColumn(\"Body\", parse_prog_lang_udf(\"Body\"))\\\n",
    "\n",
    "prog_lang_df.select(prog_lang_df.QuestionId, explode(prog_lang_df.Body).alias(\"Programming Language\"))\\\n",
    "\t\t\t.groupBy(\"Programming Language\")\\\n",
    "\t\t\t.count()\\\n",
    "\t\t\t.show()"
   ]
  },
  {
   "cell_type": "markdown",
   "metadata": {},
   "source": [
    "5. Find the most used domains in the \"question\" collection "
   ]
  },
  {
   "cell_type": "code",
   "execution_count": 16,
   "metadata": {},
   "outputs": [
    {
     "name": "stdout",
     "output_type": "stream",
     "text": [
      "+----------+--------------------+\n",
      "|QuestionId|              Domain|\n",
      "+----------+--------------------+\n",
      "|        90|svnbook.red-bean.com|\n",
      "|        80|    en.wikipedia.org|\n",
      "|        80|    en.wikipedia.org|\n",
      "|       260|    en.wikipedia.org|\n",
      "|       580|        red-gate.com|\n",
      "|      1390|       microsoft.com|\n",
      "|      2120|   stackoverflow.com|\n",
      "|      2970|             98hs.ru|\n",
      "|      2970|             98hs.ru|\n",
      "|      2970|whois.domaintools...|\n",
      "|      2970|             98hs.ru|\n",
      "|      2970|             98hs.ru|\n",
      "|      2970|             98hs.ru|\n",
      "|      2970|             98hs.ru|\n",
      "|      2970|             98hs.ru|\n",
      "|      2970|             98hs.ru|\n",
      "|      2970|             porv.ru|\n",
      "|      2970|             98hs.ru|\n",
      "|      2970|             porv.ru|\n",
      "|      2970|             98hs.ru|\n",
      "+----------+--------------------+\n",
      "only showing top 20 rows\n",
      "\n"
     ]
    }
   ],
   "source": [
    "domain_re = r'\\bhttps?://(?:www\\.|ww2\\.)?((?:[\\w-]+\\.){1,}\\w+)\\b'\n",
    "def domain(string):\n",
    "\treturn re.findall(domain_re,string)\n",
    "parse_domain_udf = udf(domain, ArrayType(StringType()))\n",
    "domain_df = new_questions_df.withColumn(\"Body\", parse_domain_udf(\"Body\"))\n",
    "domain_df = domain_df.select(domain_df.QuestionId, explode(domain_df.Body).alias(\"Domain\"))\\\n",
    "\t\t\t\t\t#.groupBy(\"Domain\")\\\n",
    "\t\t\t\t\t#.count()\\\n",
    "\t\t\t\t\t#.sort(\"Domain\")\n",
    "\n",
    "domain_df.show()"
   ]
  },
  {
   "cell_type": "code",
   "execution_count": 17,
   "metadata": {},
   "outputs": [
    {
     "name": "stdout",
     "output_type": "stream",
     "text": [
      "+--------------------+-----+\n",
      "|              Domain|count|\n",
      "+--------------------+-----+\n",
      "|   stackoverflow.com| 6091|\n",
      "|   i.stack.imgur.com| 1867|\n",
      "|              w3.org| 1841|\n",
      "|  msdn.microsoft.com| 1577|\n",
      "|    en.wikipedia.org| 1417|\n",
      "|     code.google.com|  851|\n",
      "|         example.com|  843|\n",
      "|          github.com|  750|\n",
      "|schemas.microsoft...|  731|\n",
      "|          google.com|  644|\n",
      "|        jsfiddle.net|  623|\n",
      "|        java.sun.com|  481|\n",
      "| schemas.android.com|  380|\n",
      "|        pastebin.com|  350|\n",
      "| springframework.org|  343|\n",
      "|      blogs.msdn.com|  284|\n",
      "|          domain.com|  276|\n",
      "|developer.android...|  267|\n",
      "| developer.apple.com|  255|\n",
      "|          mysite.com|  238|\n",
      "+--------------------+-----+\n",
      "only showing top 20 rows\n",
      "\n"
     ]
    }
   ],
   "source": [
    "domain_re = r'\\bhttps?://(?:www\\.|ww2\\.)?((?:[\\w-]+\\.){1,}\\w+)\\b'\n",
    "def domain(string):\n",
    "\treturn re.findall(domain_re,string)\n",
    "parse_domain_udf = udf(domain, ArrayType(StringType()))\n",
    "domain_df = new_questions_df.withColumn(\"Body\", parse_domain_udf(\"Body\"))\n",
    "domain_df = domain_df.select(domain_df.QuestionId, explode(domain_df.Body).alias(\"Domain\"))\\\n",
    "\t\t\t\t\t.groupBy(\"Domain\")\\\n",
    "\t\t\t\t\t.count()\\\n",
    "\t\t\t\t\t.sort(col(\"count\").desc())\n",
    "\n",
    "domain_df.show()"
   ]
  },
  {
   "cell_type": "markdown",
   "metadata": {},
   "source": [
    "6. Calculate the score Users get by day"
   ]
  },
  {
   "cell_type": "code",
   "execution_count": 34,
   "metadata": {},
   "outputs": [
    {
     "name": "stdout",
     "output_type": "stream",
     "text": [
      "+-----------+------------+-----+-----------+\n",
      "|OwnerUserId|CreationDate|Score|Score_total|\n",
      "+-----------+------------+-----+-----------+\n",
      "|          1|  2008-11-26|   10|         10|\n",
      "|          1|  2009-01-08|   20|         30|\n",
      "|          1|  2009-10-08|   28|         58|\n",
      "|          4|  2009-01-01|    4|          4|\n",
      "|          4|  2009-02-14|    9|         13|\n",
      "|          4|  2010-07-02|   66|         79|\n",
      "|          5|  2008-12-28|    0|          0|\n",
      "|          5|  2009-04-08|   12|         12|\n",
      "|          5|  2011-03-28|   11|         23|\n",
      "|          5|  2011-04-06|    2|         25|\n",
      "|         17|  2008-08-05|   14|         14|\n",
      "|         17|  2011-01-27|    0|         14|\n",
      "|         20|  2011-04-21|    2|          2|\n",
      "|         23|  2008-12-16|   27|         27|\n",
      "|         25|  2008-08-23|   10|         10|\n",
      "|         25|  2009-04-13|   71|         81|\n",
      "|         25|  2010-12-21|    2|         83|\n",
      "|         26|  2008-08-01|   26|         26|\n",
      "|         26|  2008-08-14|    1|         27|\n",
      "|         26|  2008-08-15|    4|         31|\n",
      "+-----------+------------+-----+-----------+\n",
      "only showing top 20 rows\n",
      "\n"
     ]
    }
   ],
   "source": [
    "\n",
    "score_user_df = new_questions_df.select(\"OwnerUserId\", \"CreationDate\", \"Score\")\\\n",
    "\t\t\t\t\t\t\t\t.withColumn(\"OwnerUserId\",col(\"OwnerUserId\").cast(\"Integer\"))\\\n",
    "\t\t\t\t\t\t\t\t.withColumn(\"Score\",col(\"Score\").cast(\"Integer\"))\\\n",
    "\n",
    "running_total_window = Window.partitionBy(\"OwnerUserId\")\\\n",
    "\t.orderBy(\"OwnerUserId\",\"CreationDate\")\\\n",
    "\t.rowsBetween(Window.unboundedPreceding, Window.currentRow)\n",
    "\n",
    "score_user_df\\\n",
    "    .na.drop(how=\"any\")\\\n",
    "    .withColumn(\"Score_total\",f.sum(\"Score\") .over(running_total_window))\\\n",
    "\t.show()\n",
    "# delete row null"
   ]
  },
  {
   "cell_type": "markdown",
   "metadata": {},
   "source": [
    "7. Calculate the total of the score Users get for a period of time"
   ]
  },
  {
   "cell_type": "code",
   "execution_count": 19,
   "metadata": {},
   "outputs": [
    {
     "name": "stdout",
     "output_type": "stream",
     "text": [
      "+-----------+------------+-----+-----------+\n",
      "|OwnerUserId|CreationDate|Score|Score_total|\n",
      "+-----------+------------+-----+-----------+\n",
      "|          1|  2008-11-26|   10|         10|\n",
      "|          5|  2008-12-28|    0|          0|\n",
      "|         17|  2008-08-05|   14|         14|\n",
      "|         23|  2008-12-16|   27|         27|\n",
      "|         25|  2008-08-23|   10|         10|\n",
      "+-----------+------------+-----+-----------+\n",
      "only showing top 5 rows\n",
      "\n"
     ]
    }
   ],
   "source": [
    "START = '2008-01-01'\n",
    "END = '2009-01-01'\n",
    "score_user_df2 = score_user_df.filter(score_user_df.CreationDate > START)\\\n",
    "                                .filter(score_user_df.CreationDate < END)\\\n",
    "\n",
    "running_total_window2 = Window.partitionBy(\"OwnerUserId\")\\\n",
    "\t.orderBy(\"OwnerUserId\",\"CreationDate\")\\\n",
    "\t.rowsBetween(Window.unboundedPreceding, Window.currentRow)\n",
    "\n",
    "score_user_df2\\\n",
    "    .na.drop(how=\"any\")\\\n",
    "    .withColumn(\"Score_total\",f.sum(\"Score\") .over(running_total_window2))\\\n",
    "    .show(5)"
   ]
  },
  {
   "cell_type": "markdown",
   "metadata": {},
   "source": [
    "8. Find the questions have number of answers more than 5\n"
   ]
  },
  {
   "cell_type": "markdown",
   "metadata": {},
   "source": [
    "8.1. Bucket Join"
   ]
  },
  {
   "cell_type": "code",
   "execution_count": 20,
   "metadata": {},
   "outputs": [],
   "source": [
    "spark.sql(\"CREATE DATABASE IF NOT EXISTS MY_DB\")\n",
    "spark.sql(\"USE MY_DB\")\n",
    "\n",
    "new_answers_df.coalesce(1).write\\\n",
    "    .bucketBy(5, \"AnswerId\")\\\n",
    "    .mode(\"overwrite\")\\\n",
    "    .saveAsTable(\"MY_DB.answer_data\")\n",
    "\n",
    "new_questions_df.coalesce(1).write\\\n",
    "    .bucketBy(5, \"QuestionId\")\\\n",
    "    .mode(\"overwrite\")\\\n",
    "    .saveAsTable(\"MY_DB.question_data\")"
   ]
  },
  {
   "cell_type": "markdown",
   "metadata": {},
   "source": [
    "8.2. Inner join 2 tables \"answer\" and \"question\""
   ]
  },
  {
   "cell_type": "code",
   "execution_count": 21,
   "metadata": {},
   "outputs": [
    {
     "name": "stdout",
     "output_type": "stream",
     "text": [
      "root\n",
      " |-- QuestionId: integer (nullable = true)\n",
      " |-- count: integer (nullable = false)\n",
      "\n",
      "+----------+-----+\n",
      "|QuestionId|count|\n",
      "+----------+-----+\n",
      "|       180|    7|\n",
      "|       260|    8|\n",
      "|       330|   10|\n",
      "|       580|   14|\n",
      "|       930|    6|\n",
      "+----------+-----+\n",
      "only showing top 5 rows\n",
      "\n"
     ]
    }
   ],
   "source": [
    "\n",
    "new_answers_df2 = spark.read.table(\"MY_DB.answer_data\")\n",
    "new_questions_df2 = spark.read.table(\"MY_DB.question_data\")\n",
    "\n",
    "join_expr = new_questions_df2.QuestionId == new_answers_df2.ParentId\n",
    "\n",
    "join_df = new_answers_df2.join(new_questions_df2, join_expr,\"inner\")\\\n",
    "                        .select(\"AnswerId\",\"QuestionId\")\\\n",
    "                        .groupBy(\"QuestionId\")\\\n",
    "                        .count()\\\n",
    "                        .withColumn(\"count\",col(\"count\").cast(\"Integer\"))\n",
    "join_df.printSchema()\n",
    "join_df.filter(col(\"count\") > 5)\\\n",
    "        .sort(col(\"QuestionId\"))\\\n",
    "        .show(5)\n"
   ]
  },
  {
   "cell_type": "markdown",
   "metadata": {},
   "source": [
    "9. Find the Active User"
   ]
  },
  {
   "cell_type": "code",
   "execution_count": 22,
   "metadata": {},
   "outputs": [
    {
     "name": "stdout",
     "output_type": "stream",
     "text": [
      "+-------------+-----+\n",
      "|UserId_answer|count|\n",
      "+-------------+-----+\n",
      "|           13|  101|\n",
      "|           67|  112|\n",
      "|           91|   62|\n",
      "|          267|  175|\n",
      "|          304|   87|\n",
      "+-------------+-----+\n",
      "only showing top 5 rows\n",
      "\n",
      "+------------+----------+\n",
      "|UserId_score|TotalScore|\n",
      "+------------+----------+\n",
      "|          13|      1088|\n",
      "|          29|      1635|\n",
      "|          67|       817|\n",
      "|          77|      1085|\n",
      "|          91|       525|\n",
      "+------------+----------+\n",
      "only showing top 5 rows\n",
      "\n",
      "+------------------+------------+-----+\n",
      "|UserId_answer_date|CreationDate|count|\n",
      "+------------------+------------+-----+\n",
      "|               893|  2010-12-28|    6|\n",
      "|              1114|  2011-06-10|    6|\n",
      "|              1591|  2011-07-08|    6|\n",
      "|              1659|  2008-09-24|    6|\n",
      "|              1944|  2008-09-19|    8|\n",
      "+------------------+------------+-----+\n",
      "only showing top 5 rows\n",
      "\n"
     ]
    }
   ],
   "source": [
    "Active_User_df1 = new_answers_df\\\n",
    "                                .na.drop(how=\"any\")\\\n",
    "                                .groupBy(col(\"OwnerUserId\").alias(\"UserId_answer\"))\\\n",
    "                                .count()\\\n",
    "                                .withColumn(\"count\",col(\"count\").cast(\"Integer\"))\\\n",
    "                                .sort(\"UserId_answer\")\\\n",
    "                                .filter(col(\"count\") > 50)\n",
    "\n",
    "Active_User_df1.show(5)\n",
    "\n",
    "Active_User_df2 = new_answers_df\\\n",
    "                                .na.drop(how=\"any\")\\\n",
    "                                .groupBy(col(\"OwnerUserId\").alias(\"UserId_score\"))\\\n",
    "                                .agg(f.sum(\"Score\").alias(\"TotalScore\"))\\\n",
    "                                .withColumn(\"TotalScore\",col(\"TotalScore\").cast(\"Integer\"))\\\n",
    "                                .sort(\"UserId_score\")\\\n",
    "                                .filter(col(\"TotalScore\") > 500)\n",
    "Active_User_df2.show(5)\n",
    "\n",
    "Active_User_df3 = new_answers_df\\\n",
    "                                .na.drop(how=\"any\")\\\n",
    "                                .groupBy(col(\"OwnerUserId\").alias(\"UserId_answer_date\"),\"CreationDate\")\\\n",
    "                                .count()\\\n",
    "                                .withColumn(\"count\",col(\"count\").cast(\"Integer\"))\\\n",
    "                                .sort(col(\"UserId_answer_date\"))\\\n",
    "                                .filter(col(\"count\") > 5)\n",
    "\n",
    "Active_User_df3.show(5)\n"
   ]
  },
  {
   "cell_type": "code",
   "execution_count": 23,
   "metadata": {},
   "outputs": [
    {
     "name": "stdout",
     "output_type": "stream",
     "text": [
      "+------------+\n",
      "|ActiveUserId|\n",
      "+------------+\n",
      "|          13|\n",
      "|          29|\n",
      "|          67|\n",
      "|          77|\n",
      "|          91|\n",
      "|         142|\n",
      "|         157|\n",
      "|         184|\n",
      "|         267|\n",
      "|         304|\n",
      "|         312|\n",
      "|         357|\n",
      "|         372|\n",
      "|         419|\n",
      "|         459|\n",
      "|         476|\n",
      "|         572|\n",
      "|         615|\n",
      "|         714|\n",
      "|         740|\n",
      "+------------+\n",
      "only showing top 20 rows\n",
      "\n"
     ]
    }
   ],
   "source": [
    "Active_User_df4 = Active_User_df1.select(col(\"UserId_answer\").alias(\"ActiveUserId\"))\n",
    "Active_User_df5 = Active_User_df2.select(col(\"UserId_score\").alias(\"ActiveUserId\"))\n",
    "Active_User_df6 = Active_User_df3.select(col(\"UserId_answer_date\").alias(\"ActiveUserId\"))\n",
    "\n",
    "Active_User_df = Active_User_df4.union(Active_User_df5).distinct()\n",
    "Active_User_df = Active_User_df.union(Active_User_df6).distinct()\n",
    "\n",
    "Active_User_df.sort(\"ActiveUserId\").show()\n"
   ]
  },
  {
   "cell_type": "code",
   "execution_count": 33,
   "metadata": {},
   "outputs": [
    {
     "name": "stdout",
     "output_type": "stream",
     "text": [
      "+---+-----------------+\n",
      "| Id|Number of answers|\n",
      "+---+-----------------+\n",
      "| 80|                3|\n",
      "| 90|                3|\n",
      "|120|                1|\n",
      "|180|                7|\n",
      "|260|                8|\n",
      "|330|               10|\n",
      "|470|                1|\n",
      "|580|               14|\n",
      "|650|                5|\n",
      "|810|                4|\n",
      "+---+-----------------+\n",
      "only showing top 10 rows\n",
      "\n"
     ]
    }
   ],
   "source": [
    "number_answers_per_question_df = new_answers_df.select(col(\"ParentId\").alias(\"Id\"))\\\n",
    "                                .groupBy(col(\"Id\"))\\\n",
    "                                .count()\\\n",
    "                                .withColumnRenamed(\"count\",\"Number of answers\")\\\n",
    "                                .sort(col(\"Id\"))\n",
    "number_answers_per_question_df.show(10)\n"
   ]
  }
 ],
 "metadata": {
  "kernelspec": {
   "display_name": "Python 3.9.12 ('base')",
   "language": "python",
   "name": "python3"
  },
  "language_info": {
   "codemirror_mode": {
    "name": "ipython",
    "version": 3
   },
   "file_extension": ".py",
   "mimetype": "text/x-python",
   "name": "python",
   "nbconvert_exporter": "python",
   "pygments_lexer": "ipython3",
   "version": "3.9.12"
  },
  "orig_nbformat": 4,
  "vscode": {
   "interpreter": {
    "hash": "ad2bdc8ecc057115af97d19610ffacc2b4e99fae6737bb82f5d7fb13d2f2c186"
   }
  }
 },
 "nbformat": 4,
 "nbformat_minor": 2
}
